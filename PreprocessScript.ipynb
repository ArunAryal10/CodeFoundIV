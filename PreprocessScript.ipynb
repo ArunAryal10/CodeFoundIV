{
 "cells": [
  {
   "cell_type": "markdown",
   "id": "a9263b9b-2bae-4c96-91d6-36a6873557ad",
   "metadata": {},
   "source": [
    "# Load libraries"
   ]
  },
  {
   "cell_type": "code",
   "execution_count": 13,
   "id": "14a32a50-11c6-49dc-b318-adbd12827459",
   "metadata": {},
   "outputs": [],
   "source": [
    "import os\n",
    "import h5py\n",
    "import pickle\n",
    "import numpy as np\n"
   ]
  },
  {
   "cell_type": "code",
   "execution_count": 14,
   "id": "ba8ec84c-42b9-44aa-be91-71d39850053a",
   "metadata": {},
   "outputs": [],
   "source": [
    "subjNums = [ 'sub-3', 'sub-4', 'sub-5', 'sub-6', 'sub-7', 'sub-8', 'sub-10', \n",
    "         'sub-11', 'sub-12', 'sub-13', 'sub-14', 'sub-15', 'sub-16', 'sub-17', 'sub-18', 'sub-19', 'sub-20',\n",
    "           'sub-21', 'sub-22', 'sub-23', 'sub-24', 'sub-25', 'sub-26', 'sub-28', 'sub-29', 'sub-30',\n",
    "          'sub-31', 'sub-32', 'sub-33', 'sub-34', 'sub-35', 'sub-36', 'sub-37', 'sub-38', 'sub-39', 'sub-40']"
   ]
  },
  {
   "cell_type": "code",
   "execution_count": 15,
   "id": "0d456b09-ab15-4e98-8dfe-aad6caf342f1",
   "metadata": {},
   "outputs": [],
   "source": [
    "actual_data_dir = '/projects/f_mc1689_1/MeiranNext/data/results/ArunResults/ActualBetasParcelwise/'\n",
    "actual_suffix = '_actualBetas.pkl'   \n",
    "\n",
    "output_dir = '/projects/f_mc1689_1/MeiranNext/data/results/ArunResults/ActualBetasParcelwiseH5/'\n"
   ]
  },
  {
   "cell_type": "markdown",
   "id": "29fb6a3b-42b3-4471-a13a-d214987a9845",
   "metadata": {},
   "source": [
    "# convert pickle to h5 "
   ]
  },
  {
   "cell_type": "code",
   "execution_count": 16,
   "id": "3e2cc563-c2a3-43fb-a7da-84e77d44ecdb",
   "metadata": {},
   "outputs": [],
   "source": [
    "def load_and_print_pickle(file_path):\n",
    "    with open(file_path, 'rb') as file:\n",
    "        data = pickle.load(file)\n",
    "        return data\n",
    "\n",
    "allRuns = ['test1_901', 'test2_1101', 'test3_1301', 'test4_1501', \n",
    "           'test5_1701', 'test6_1901', 'test7_2101', 'test8_2301']"
   ]
  },
  {
   "cell_type": "code",
   "execution_count": 17,
   "id": "d99325ea-45b5-47b4-a276-6e78278bbcff",
   "metadata": {},
   "outputs": [],
   "source": [
    "def preprocess(subj):\n",
    "    \n",
    "    output_path = os.path.join(output_dir, subj + '_actualBetas.h5')\n",
    "\n",
    "    with h5py.File(output_path, 'w') as h5f:\n",
    "        for run in allRuns:\n",
    "            run_path = os.path.join(actual_data_dir, subj, subj + '_' + run + actual_suffix)\n",
    "\n",
    "            try:\n",
    "                run_data = load_and_print_pickle(run_path)\n",
    "            except FileNotFoundError:\n",
    "                print(f'File not found: {run_path}')\n",
    "                continue\n",
    "\n",
    "            run_group = h5f.create_group(run)\n",
    "\n",
    "            for miniblock in run_data:\n",
    "                mb_num = miniblock['miniblock']\n",
    "                mb_group = run_group.create_group(f'miniblock_{mb_num}')\n",
    "                \n",
    "                trials = miniblock['trials']\n",
    "                conditions = [trial['condition'] for trial in trials]\n",
    "                betas = np.stack([trial['betas'] for trial in trials])\n",
    "                \n",
    "                mb_group.create_dataset('condition', data=np.array(conditions, dtype='S'))\n",
    "                mb_group.create_dataset('betas', data=betas)\n",
    "\n",
    "                # Handle motor_response if exists in any trial\n",
    "                if any('motor_response' in trial for trial in trials):\n",
    "                    motor_responses = [trial.get('motor_response', '') for trial in trials]\n",
    "                    mb_group.create_dataset('motor_response', data=np.array(motor_responses, dtype='S'))\n",
    "\n",
    "                # Handle Stimuli if exists in any trial\n",
    "                if any('Stimuli' in trial for trial in trials):\n",
    "                    stimuli_vals = [trial.get('Stimuli', np.nan) for trial in trials]\n",
    "                    mb_group.create_dataset('Stimuli', data=np.array(stimuli_vals))\n"
   ]
  },
  {
   "cell_type": "code",
   "execution_count": 18,
   "id": "708d337d-a677-43e2-afe0-74f8b874602d",
   "metadata": {},
   "outputs": [
    {
     "name": "stdout",
     "output_type": "stream",
     "text": [
      "File not found: /projects/f_mc1689_1/MeiranNext/data/results/ArunResults/ActualBetasParcelwise/sub-16/sub-16_test7_2101_actualBetas.pkl\n",
      "File not found: /projects/f_mc1689_1/MeiranNext/data/results/ArunResults/ActualBetasParcelwise/sub-21/sub-21_test4_1501_actualBetas.pkl\n",
      "File not found: /projects/f_mc1689_1/MeiranNext/data/results/ArunResults/ActualBetasParcelwise/sub-29/sub-29_test5_1701_actualBetas.pkl\n",
      "File not found: /projects/f_mc1689_1/MeiranNext/data/results/ArunResults/ActualBetasParcelwise/sub-31/sub-31_test7_2101_actualBetas.pkl\n",
      "File not found: /projects/f_mc1689_1/MeiranNext/data/results/ArunResults/ActualBetasParcelwise/sub-32/sub-32_test2_1101_actualBetas.pkl\n",
      "File not found: /projects/f_mc1689_1/MeiranNext/data/results/ArunResults/ActualBetasParcelwise/sub-35/sub-35_test3_1301_actualBetas.pkl\n",
      "File not found: /projects/f_mc1689_1/MeiranNext/data/results/ArunResults/ActualBetasParcelwise/sub-38/sub-38_test5_1701_actualBetas.pkl\n"
     ]
    }
   ],
   "source": [
    "for subj in subjNums:\n",
    "    preprocess(subj)"
   ]
  },
  {
   "cell_type": "code",
   "execution_count": null,
   "id": "566901f9-693e-4f12-bb54-114129b0f711",
   "metadata": {},
   "outputs": [],
   "source": []
  }
 ],
 "metadata": {
  "kernelspec": {
   "display_name": "Python 3 (ipykernel)",
   "language": "python",
   "name": "python3"
  },
  "language_info": {
   "codemirror_mode": {
    "name": "ipython",
    "version": 3
   },
   "file_extension": ".py",
   "mimetype": "text/x-python",
   "name": "python",
   "nbconvert_exporter": "python",
   "pygments_lexer": "ipython3",
   "version": "3.9.7"
  }
 },
 "nbformat": 4,
 "nbformat_minor": 5
}
